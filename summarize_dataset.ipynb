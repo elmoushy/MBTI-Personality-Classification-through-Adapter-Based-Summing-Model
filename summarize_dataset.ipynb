{
 "cells": [
  {
   "cell_type": "code",
   "execution_count": 2,
   "id": "84280b61",
   "metadata": {},
   "outputs": [],
   "source": [
    "import tensorflow as tf\n",
    "\n",
    "config = tf.compat.v1.ConfigProto()\n",
    "config.gpu_options.allow_growth = True\n",
    "session = tf.compat.v1.Session(config=config)"
   ]
  },
  {
   "cell_type": "code",
   "execution_count": 3,
   "id": "25ff739c",
   "metadata": {},
   "outputs": [],
   "source": [
    "import os\n",
    "os.environ[\"CUDA_VISIBLE_DEVICES\"]=\"0\""
   ]
  },
  {
   "cell_type": "code",
   "execution_count": 5,
   "id": "fe611e66",
   "metadata": {},
   "outputs": [],
   "source": [
    "import csv\n",
    "from transformers import pipeline\n",
    "summarizer = pipeline(\"summarization\", model=\"facebook/bart-large-cnn\", device=0)\n",
    "def summarize(text):\n",
    "    try:\n",
    "        x=summarizer(text)\n",
    "    except:\n",
    "        return text\n",
    "    z=x[0]['summary_text']\n",
    "    return z\n"
   ]
  },
  {
   "cell_type": "code",
   "execution_count": 6,
   "id": "6874ea66",
   "metadata": {},
   "outputs": [],
   "source": [
    "def split_text(text):\n",
    "    words = text.split()\n",
    "    half = len(words) // 2\n",
    "    first_half = ' '.join(words[:half])\n",
    "    second_half = ' '.join(words[half:])\n",
    "    return (first_half, second_half)"
   ]
  },
  {
   "cell_type": "code",
   "execution_count": 7,
   "id": "75221bf4",
   "metadata": {},
   "outputs": [],
   "source": [
    "def concatenate_strings(str1, str2):\n",
    "    return str1 + str2"
   ]
  },
  {
   "cell_type": "code",
   "execution_count": null,
   "id": "6e9fe6a2",
   "metadata": {},
   "outputs": [],
   "source": [
    "j=0\n",
    "with open(\"C:/Users/Seif Elmoushy/Downloads/archive (12)/com_data111.csv\", mode='r') as input_file, open(\"C:/Users/Seif Elmoushy/Downloads/archive (12)/Dataset_summarized11.csv\", mode='a', newline='') as output_file:\n",
    "    reader = csv.reader(input_file)\n",
    "    writer = csv.writer(output_file)\n",
    "    for row in reader:\n",
    "        first_half, second_half = split_text(row[1])\n",
    "        first_half =summarize(first_half)\n",
    "        first_half+=\" \"\n",
    "        second_half =summarize(second_half)\n",
    "        result = concatenate_strings(first_half, second_half)\n",
    "        row[1] = result\n",
    "        writer.writerow(row)\n",
    "        j+=1\n",
    "        print(j)"
   ]
  }
 ],
 "metadata": {
  "kernelspec": {
   "display_name": "Python 3 (ipykernel)",
   "language": "python",
   "name": "python3"
  },
  "language_info": {
   "codemirror_mode": {
    "name": "ipython",
    "version": 3
   },
   "file_extension": ".py",
   "mimetype": "text/x-python",
   "name": "python",
   "nbconvert_exporter": "python",
   "pygments_lexer": "ipython3",
   "version": "3.7.13"
  }
 },
 "nbformat": 4,
 "nbformat_minor": 5
}
